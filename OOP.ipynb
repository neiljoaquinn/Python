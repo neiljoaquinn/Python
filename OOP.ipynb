{
 "cells": [
  {
   "cell_type": "markdown",
   "id": "c636dc85",
   "metadata": {},
   "source": [
    "# Object Oriented Programming Draft"
   ]
  },
  {
   "cell_type": "markdown",
   "id": "815b5271",
   "metadata": {},
   "source": [
    "## LE LABO SANTAL 33"
   ]
  },
  {
   "attachments": {
    "lelabo.jpg": {
     "image/jpeg": "[encoded data removed]"
    }
   },
   "cell_type": "markdown",
   "id": "f9ed0cf2",
   "metadata": {},
   "source": [
    "![lelabo.jpg](attachment:lelabo.jpg) "
   ]
  },
  {
   "cell_type": "markdown",
   "id": "23c43c5d",
   "metadata": {},
   "source": [
    "### Defining a Class\n"
   ]
  },
  {
   "cell_type": "code",
   "execution_count": null,
   "id": "3d0bc242",
   "metadata": {},
   "outputs": [],
   "source": [
    "class Perfume:\n",
    "    \"This is a perfume class\"\n",
    "    pass"
   ]
  },
  {
   "cell_type": "markdown",
   "id": "c452c108",
   "metadata": {},
   "source": [
    "### Setting Attributes"
   ]
  },
  {
   "cell_type": "code",
   "execution_count": 19,
   "id": "48f3ee4f",
   "metadata": {
    "scrolled": true
   },
   "outputs": [
    {
     "name": "stdout",
     "output_type": "stream",
     "text": [
      "Le Labo\n",
      "Frank Voelkl\n"
     ]
    }
   ],
   "source": [
    "class Perfume:\n",
    "    \n",
    "    def perfumer (self):\n",
    "        print(\"Le Labo\")\n",
    "    \n",
    "    def change_perfumer (self, perfumer):\n",
    "        self.perfumer = perfumer\n",
    "    \n",
    "    def get_perfumer (self):\n",
    "        return self.perfumer\n",
    "\n",
    "x = Perfume()\n",
    "x.perfumer()\n",
    "x.change_perfumer(\"Frank Voelkl\")\n",
    "print(x.get_perfumer())\n"
   ]
  },
  {
   "cell_type": "markdown",
   "id": "6aac964c",
   "metadata": {},
   "source": [
    "### Using **init** Function"
   ]
  },
  {
   "cell_type": "code",
   "execution_count": 102,
   "id": "e154983e",
   "metadata": {},
   "outputs": [
    {
     "name": "stdout",
     "output_type": "stream",
     "text": [
      "Name: Le Labo Santal 33\n",
      "Perfumer: Frank Voelkl\n",
      "Year Released: 2011\n",
      "Main Accords: Woody Aromatic\n",
      "Le Labo Santal 33 is a Woody Aromatic fragrance for men and women launched in 2011. The nose behind this fragrance is Frank Voelkl.\n"
     ]
    }
   ],
   "source": [
    "#CREATING A CLASS!\n",
    "\n",
    "class Perfume:\n",
    "    def __init__ (scent, name, perfumer, release_year, accords):\n",
    "        scent.name = name\n",
    "        scent.perfumer = perfumer\n",
    "        scent.release_year = release_year\n",
    "        scent.accords = accords\n",
    "    \n",
    "    def information(scent):\n",
    "\n",
    "#ACCESSING ATTRIBUTE VALUES   \n",
    "\n",
    "        print('Name:', scent.name)\n",
    "        print('Perfumer:', scent.perfumer)\n",
    "        print('Year Released:', scent.release_year)\n",
    "        print('Main Accords:', scent.accords)\n",
    "\n",
    "     \n",
    "    def description(scent):\n",
    "        print(f\"{scent.name} is a {scent.accords} fragrance for men and women launched in {scent.release_year}. The nose behind this fragrance is {scent.perfumer}.\")\n",
    "\n",
    "#CONSTRUCTING A CLASS \n",
    "\n",
    "x = Perfume (\"Le Labo Santal 33\", \"Frank Voelkl\", 2011, \"Woody Aromatic\")\n",
    "\n",
    "#CALLING METHODS\n",
    "\n",
    "x.information()\n",
    "x.description()"
   ]
  },
  {
   "cell_type": "markdown",
   "id": "f85e062e",
   "metadata": {},
   "source": [
    "### Inheritance"
   ]
  },
  {
   "cell_type": "code",
   "execution_count": 96,
   "id": "924a8b68",
   "metadata": {},
   "outputs": [
    {
     "name": "stdout",
     "output_type": "stream",
     "text": [
      "Le Labo Santal 33 by Frank Voelkl\n",
      "\n",
      "Concentration: Eau De Parfum\n",
      "\n",
      "Volume: 15ml, 50ml, 100ml, 500ml\n",
      "\n",
      "Price: 90-1045 usd\n",
      "\n",
      "Accords: woody\n",
      "Accords: powdery\n",
      "Accords: leather\n",
      "Accords: warm spicy\n",
      "Accords: violet\n",
      "\n",
      "Feminine: 101 votes\n",
      "Unisex: 1141 votes\n",
      "Masculine: 301 votes\n"
     ]
    }
   ],
   "source": [
    "class Perfume:\n",
    "    \n",
    "    def show_Fragrance (self):\n",
    "        print(\"Le Labo Santal 33 by Frank Voelkl\\n\")\n",
    "        print(\"Concentration: \" + self.concentration)\n",
    "        print(\"Volume: \" + self.volume)\n",
    "        print(\"Price: \" + self.price)\n",
    "     \n",
    "    def show_Accords (self):\n",
    "        print(\"Accords: \" + self.accords1)\n",
    "        print(\"Accords: \" + self.accords2)\n",
    "        print(\"Accords: \" + self.accords3)\n",
    "        print(\"Accords: \" + self.accords4)\n",
    "        print(\"Accords: \" + self.accords5)\n",
    "        \n",
    "    def show_Gender (self):\n",
    "        print(\"Feminine: \" + self.feminine)\n",
    "        print(\"Unisex: \" + self.unisex)\n",
    "        print(\"Masculine: \" + self.masculine)\n",
    "    \n",
    "class Fragrance(Perfume):\n",
    "    \n",
    "    def __init__ (self, concentration, volume, price):\n",
    "        self.concentration = concentration\n",
    "        self.volume = volume\n",
    "        self.price = price\n",
    "       \n",
    "class Accords(Perfume):\n",
    "    \n",
    "    def __init__ (self, accords1, accords2, accords3, accords4, accords5):\n",
    "        self.accords1 = accords1\n",
    "        self.accords2 = accords2\n",
    "        self.accords3 = accords3\n",
    "        self.accords4 = accords4\n",
    "        self.accords5 = accords5\n",
    "        \n",
    "        \n",
    "class Gender(Perfume):\n",
    "    \n",
    "    def __init__ (self, feminine, unisex, masculine):\n",
    "        self.feminine = feminine\n",
    "        self.unisex = unisex\n",
    "        self.masculine = masculine\n",
    "    \n",
    "f = Fragrance(\"Eau De Parfum\\n\", \"15ml, 50ml, 100ml, 500ml\\n\", \"90-1045 usd\\n\")\n",
    "a = Accords(\"woody\", \"powdery\", \"leather\", \"warm spicy\", \"violet\\n\")\n",
    "g = Gender(\"101 votes\", \"1141 votes\", \"301 votes\")\n",
    "\n",
    "f.show_Fragrance()\n",
    "a.show_Accords()\n",
    "g.show_Gender()\n"
   ]
  }
 ],
 "metadata": {
  "kernelspec": {
   "display_name": "Python 3 (ipykernel)",
   "language": "python",
   "name": "python3"
  },
  "language_info": {
   "codemirror_mode": {
    "name": "ipython",
    "version": 3
   },
   "file_extension": ".py",
   "mimetype": "text/x-python",
   "name": "python",
   "nbconvert_exporter": "python",
   "pygments_lexer": "ipython3",
   "version": "3.9.13"
  }
 },
 "nbformat": 4,
 "nbformat_minor": 5
}
