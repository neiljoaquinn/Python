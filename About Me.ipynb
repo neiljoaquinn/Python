{
 "cells": [
  {
   "cell_type": "code",
   "execution_count": 1,
   "id": "bc8fb601",
   "metadata": {},
   "outputs": [
    {
     "name": "stdout",
     "output_type": "stream",
     "text": [
      "Hello, Python!\n"
     ]
    }
   ],
   "source": [
    "print(\"Hello, Python!\")"
   ]
  },
  {
   "cell_type": "code",
   "execution_count": 21,
   "id": "af4a9771",
   "metadata": {},
   "outputs": [
    {
     "name": "stdout",
     "output_type": "stream",
     "text": [
      "I am Neil Joaquin Bonggo, 19 years of age, studying BS Information Technology in Batangas State University-Alangilan.\n"
     ]
    }
   ],
   "source": [
    "my_name, my_age, my_university = \"Neil Joaquin Bonggo\", 19, \"Batangas State University-Alangilan Campus.\"\n",
    "\n",
    "about_me = \"I am {}, {} years of age, studying BS Information Technology in {}\"\n",
    "\n",
    "print(about_me.format(my_name, my_age, my_school))"
   ]
  },
  {
   "cell_type": "code",
   "execution_count": 42,
   "id": "d3f606cb",
   "metadata": {},
   "outputs": [
    {
     "name": "stdout",
     "output_type": "stream",
     "text": [
      "I am currently a second year student in college.\n",
      "Bachelor of Science in Information Technology is the first program I applied to in BatState-U.\n",
      "I am also in the latter part of my First Semester.\n"
     ]
    }
   ],
   "source": [
    "my_year = \"second year\"\n",
    "my_course = \"Bachelor of Science in Information Technology\"\n",
    "my_semester = \"First Semester\"\n",
    "\n",
    "print(\"I am currently a \" + my_year + \" student in college.\")\n",
    "print(my_course + \" is the first program I applied to in BatState-U.\")\n",
    "print(\"I am also in the latter part of my \"+ my_semester + \".\")"
   ]
  },
  {
   "cell_type": "code",
   "execution_count": 58,
   "id": "89567cda",
   "metadata": {},
   "outputs": [
    {
     "name": "stdout",
     "output_type": "stream",
     "text": [
      "I originally came from Calamba City, Laguna but I had to move in Batangas City to pursue my studies.\n",
      "With my parent's approval, I was able to take another step in the path I chose to take. \n"
     ]
    }
   ],
   "source": [
    "my_permanent_address = \"Calamba City, Laguna\"\n",
    "my_current_address = \"Batangas City\"\n",
    "\n",
    "print(\"I originally came from \" + my_permanent_address + \" but I had to move in \" + my_current_address + \" to pursue my studies.\")\n",
    "print(\"With my parent's approval, I was able to take another step in the path I chose to take. \")"
   ]
  },
  {
   "cell_type": "code",
   "execution_count": 67,
   "id": "f3891504",
   "metadata": {},
   "outputs": [
    {
     "name": "stdout",
     "output_type": "stream",
     "text": [
      "You will mostly see me drawing or painting faces. But sometimes, you'll find me editing dozens of pictures and videos in my camera roll. But during lazy days, you'll catch me binge watching my favorite Netflix shows.\n"
     ]
    }
   ],
   "source": [
    "hobby_1 = \"drawing or painting\"\n",
    "hobby_2 = \"editing\"\n",
    "hobby_3 = \"binge watching\"\n",
    "my_hobbies = \"You will mostly see me {0} faces. But sometimes, you'll find me {1} dozens of pictures and videos in my camera roll. But during lazy days, you'll catch me {2} my favorite Netflix shows.\"\n",
    "\n",
    "print(my_hobbies.format(hobby_1, hobby_2, hobby_3)) \n"
   ]
  }
 ],
 "metadata": {
  "kernelspec": {
   "display_name": "Python 3 (ipykernel)",
   "language": "python",
   "name": "python3"
  },
  "language_info": {
   "codemirror_mode": {
    "name": "ipython",
    "version": 3
   },
   "file_extension": ".py",
   "mimetype": "text/x-python",
   "name": "python",
   "nbconvert_exporter": "python",
   "pygments_lexer": "ipython3",
   "version": "3.9.13"
  }
 },
 "nbformat": 4,
 "nbformat_minor": 5
}
